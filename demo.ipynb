{
 "cells": [
  {
   "cell_type": "code",
   "execution_count": 1,
   "metadata": {},
   "outputs": [],
   "source": [
    "import os\n",
    "import json\n",
    "from text_parser.text_parser import parse,is_valid\n",
    "from diagram_parser.detection.test import detect_image\n",
    "import cv2\n",
    "from tqdm import tqdm\n",
    "from multiprocess import Pool"
   ]
  },
  {
   "cell_type": "code",
   "execution_count": 2,
   "metadata": {},
   "outputs": [],
   "source": [
    "OUTPUT_FILE_TEXT = 'output/text/text_logic_forms.json'\n",
    "OUTPUT_FILE_DIAGRAM = 'output/diagram/diagram_logic_forms.json'"
   ]
  },
  {
   "cell_type": "code",
   "execution_count": 3,
   "metadata": {},
   "outputs": [],
   "source": [
    "with open('input/data.json', 'r') as f:\n",
    "    data = json.load(f)"
   ]
  },
  {
   "cell_type": "code",
   "execution_count": 4,
   "metadata": {},
   "outputs": [
    {
     "data": {
      "text/plain": [
       "'Find x'"
      ]
     },
     "execution_count": 4,
     "metadata": {},
     "output_type": "execute_result"
    }
   ],
   "source": [
    "input_text = data['compact_text']\n",
    "input_text"
   ]
  },
  {
   "cell_type": "code",
   "execution_count": 5,
   "metadata": {},
   "outputs": [
    {
     "name": "stdout",
     "output_type": "stream",
     "text": [
      "Parse Successfully\n"
     ]
    }
   ],
   "source": [
    "pid = 'input_diagram'\n",
    "logic_forms, output_text, reduced_text = parse(input_text)\n",
    "logic_valid = is_valid(logic_forms)\n",
    "if logic_valid and len(reduced_text) < 4:\n",
    "    success = True\n",
    "    print(\"Parse Successfully\")\n",
    "else:\n",
    "    success = False\n",
    "    print(\"Parse Failed\")\n"
   ]
  },
  {
   "cell_type": "code",
   "execution_count": 6,
   "metadata": {},
   "outputs": [],
   "source": [
    "output_data = {}\n",
    "output_data[pid] = {}\n",
    "output_data[pid][\"text_logic_forms\"] = logic_forms\n",
    "output_data[pid][\"output_text\"] = output_text\n",
    "output_data[pid][\"success\"] = success"
   ]
  },
  {
   "cell_type": "code",
   "execution_count": 7,
   "metadata": {},
   "outputs": [
    {
     "name": "stdout",
     "output_type": "stream",
     "text": [
      "Saving results to output/text/text_logic_forms.json\n"
     ]
    }
   ],
   "source": [
    "print(\"Saving results to {}\".format(OUTPUT_FILE_TEXT))\n",
    "os.makedirs(os.path.dirname(OUTPUT_FILE_TEXT), exist_ok=True)\n",
    "with open(OUTPUT_FILE_TEXT, 'w') as f:\n",
    "    json.dump(output_data, f, indent = 2, separators=(',', ': '))"
   ]
  },
  {
   "cell_type": "code",
   "execution_count": 8,
   "metadata": {},
   "outputs": [
    {
     "name": "stdout",
     "output_type": "stream",
     "text": [
      "Deleting all files in directory: output/diagram/box_results\n",
      "Deleted file: output/diagram/box_results\\input_diagram.txt\n",
      "Deleted file: output/diagram/box_results\\input_diagram_modified.jpg\n",
      "Deleting all files in directory: output/diagram/ocr_results\n",
      "Error deleting file output/diagram/ocr_results\\input_diagram: [WinError 5] Access is denied: 'output/diagram/ocr_results\\\\input_diagram'\n"
     ]
    }
   ],
   "source": [
    "import os\n",
    "import glob\n",
    "\n",
    "# Đường dẫn tới hai thư mục cần xóa tất cả các tệp tin\n",
    "box_results_dir = \"output/diagram/box_results\"\n",
    "ocr_results_dir = \"output/diagram/ocr_results\"\n",
    "\n",
    "# Hàm để xóa tất cả các tệp tin trong một thư mục\n",
    "def delete_files_in_directory(directory):\n",
    "    files = glob.glob(os.path.join(directory, '*'))\n",
    "    for f in files:\n",
    "        try:\n",
    "            os.remove(f)\n",
    "            print(f\"Deleted file: {f}\")\n",
    "        except OSError as e:\n",
    "            print(f\"Error deleting file {f}: {e}\")\n",
    "\n",
    "# Xóa tất cả các tệp tin trong thư mục box_results\n",
    "print(f\"Deleting all files in directory: {box_results_dir}\")\n",
    "delete_files_in_directory(box_results_dir)\n",
    "\n",
    "# Xóa tất cả các tệp tin trong thư mục ocr_results\n",
    "print(f\"Deleting all files in directory: {ocr_results_dir}\")\n",
    "delete_files_in_directory(ocr_results_dir)"
   ]
  },
  {
   "cell_type": "code",
   "execution_count": 9,
   "metadata": {},
   "outputs": [],
   "source": [
    "input_image = \"input\"\n",
    "detect_model = \"diagram_parser\\detection\\models\\csv_retinanet_100.pt\"\n",
    "class_list = \"diagram_parser\\detection\\classes.txt\"\n",
    "output_path = \"output\\diagram\""
   ]
  },
  {
   "cell_type": "code",
   "execution_count": 10,
   "metadata": {},
   "outputs": [
    {
     "name": "stderr",
     "output_type": "stream",
     "text": [
      "100%|██████████| 4/4 [00:01<00:00,  3.02it/s]\n"
     ]
    }
   ],
   "source": [
    "detect_image(input_image, detect_model,class_list,output_path)"
   ]
  },
  {
   "cell_type": "code",
   "execution_count": 11,
   "metadata": {},
   "outputs": [
    {
     "name": "stdout",
     "output_type": "stream",
     "text": [
      "{'request_id': '2024_06_13_71653414c41b2d064ca6g', 'version': 'RSK-M131p2i1', 'image_width': 41, 'image_height': 30, 'detection_map': {'contains_chart': 0, 'contains_diagram': 0, 'contains_graph': 0, 'contains_table': 0, 'is_blank': 0, 'is_inverted': 0, 'is_not_math': 0, 'is_printed': 0.9992327690124512}, 'detection_list': ['is_printed'], 'auto_rotate_confidence': 9.392809602104535e-05, 'auto_rotate_degrees': 0, 'position': {'top_left_x': 0, 'top_left_y': 0, 'width': 41, 'height': 30}, 'latex_confidence': 1, 'latex_confidence_rate': 1, 'latex_simplified': '60 ^ { \\\\circ }'}\n",
      "output\\diagram\\ocr_results\\input_diagram\\0.json\n",
      "{'request_id': '2024_06_13_fc18cf48041b7da0f0e6g', 'version': 'RSK-M131p2i1', 'image_width': 36, 'image_height': 28, 'detection_map': {'contains_chart': 0, 'contains_diagram': 0, 'contains_graph': 0, 'contains_table': 0, 'is_blank': 0, 'is_inverted': 0, 'is_not_math': 0, 'is_printed': 0.9391365647315979}, 'detection_list': ['is_printed'], 'auto_rotate_confidence': 0.00011776673147778638, 'auto_rotate_degrees': 0, 'position': {'top_left_x': 0, 'top_left_y': 0, 'width': 36, 'height': 28}, 'latex_confidence': 1, 'latex_confidence_rate': 1, 'latex_simplified': '30 ^ { \\\\circ }'}\n",
      "output\\diagram\\ocr_results\\input_diagram\\1.json\n",
      "{'request_id': '2024_06_13_db3bd531cfb3faf2b694g', 'version': 'RSK-M131p2i1', 'image_width': 32, 'image_height': 32, 'detection_map': {'contains_chart': 0, 'contains_diagram': 0, 'contains_graph': 0, 'contains_table': 0, 'is_blank': 0, 'is_inverted': 0, 'is_not_math': 0, 'is_printed': 0.9539660811424255}, 'detection_list': ['is_printed'], 'auto_rotate_confidence': 0.0021281880963641697, 'auto_rotate_degrees': 0, 'position': {'top_left_x': 0, 'top_left_y': 0, 'width': 32, 'height': 32}, 'latex_confidence': 1, 'latex_confidence_rate': 1, 'latex_simplified': '21'}\n",
      "output\\diagram\\ocr_results\\input_diagram\\2.json\n",
      "{'request_id': '2024_06_13_6dfdf4090842799f9a3bg', 'version': 'RSK-M131p2i1', 'image_width': 21, 'image_height': 25, 'detection_map': {'contains_chart': 0, 'contains_diagram': 0, 'contains_graph': 0, 'contains_table': 0, 'is_blank': 0, 'is_inverted': 0, 'is_not_math': 0, 'is_printed': 0.99703049659729}, 'detection_list': ['is_printed'], 'auto_rotate_confidence': 0.0001233663916622163, 'auto_rotate_degrees': 0, 'position': {'top_left_x': 0, 'top_left_y': 0, 'width': 21, 'height': 25}, 'latex_confidence': 0.8837890625, 'latex_confidence_rate': 0.8837890625, 'latex_simplified': 'X'}\n",
      "output\\diagram\\ocr_results\\input_diagram\\3.json\n",
      "{'request_id': '2024_06_13_e85c390d585a9b4258e9g', 'version': 'RSK-M131p2i1', 'image_width': 22, 'image_height': 28, 'detection_map': {'contains_chart': 0, 'contains_diagram': 0, 'contains_graph': 0, 'contains_table': 0, 'is_blank': 0, 'is_inverted': 0, 'is_not_math': 0, 'is_printed': 0.9988927245140076}, 'detection_list': ['is_printed'], 'auto_rotate_confidence': 9.417445184567441e-06, 'auto_rotate_degrees': 0, 'position': {'top_left_x': 0, 'top_left_y': 0, 'width': 22, 'height': 28}, 'latex_confidence': 0.8642578125, 'latex_confidence_rate': 0.8642578125, 'latex_simplified': 'y'}\n",
      "output\\diagram\\ocr_results\\input_diagram\\4.json\n"
     ]
    }
   ],
   "source": [
    "from diagram_parser.ocr_tool import mathpix\n",
    "import json\n",
    "import os\n",
    "import time\n",
    "folder = 'output\\diagram\\ocr_results'\n",
    "# folder = 'output\\\\test'\n",
    "sub_folders = os.listdir(folder)\n",
    "\n",
    "for sub_folder in sub_folders:\n",
    "    files = os.listdir(os.path.join(folder, sub_folder))\n",
    "    files = list(filter(lambda x: x.endswith('jpg'), files))\n",
    "    \n",
    "    for file in files:\n",
    "        path = os.path.join(folder, sub_folder, file)\n",
    "        r = mathpix.latex({\n",
    "            'src': mathpix.image_uri(path),\n",
    "            'formats': ['latex_simplified']\n",
    "        })\n",
    "        res = json.dumps(r, indent=4, sort_keys=True)\n",
    "        # print(res['latex_simplified'])\n",
    "\n",
    "        id = os.path.splitext(file)[0]\n",
    "        print(r)\n",
    "        with open(os.path.join(folder, sub_folder, id+'.json'), 'w') as f:\n",
    "            f.write(res)\n",
    "        print(os.path.join(folder, sub_folder, id+'.json'))\n",
    "        \n",
    "        time.sleep(1.5)"
   ]
  },
  {
   "cell_type": "code",
   "execution_count": 12,
   "metadata": {},
   "outputs": [],
   "source": [
    "from diagram_parser.parser import diagram_parser"
   ]
  },
  {
   "cell_type": "code",
   "execution_count": 13,
   "metadata": {},
   "outputs": [],
   "source": [
    "data_path = \"input/data.json\"\n",
    "ocr_path = \"output/diagram/ocr_results\"\n",
    "box_path = \"output/diagram/box_results\"\n",
    "output_path = OUTPUT_FILE_DIAGRAM"
   ]
  },
  {
   "cell_type": "code",
   "execution_count": 14,
   "metadata": {},
   "outputs": [],
   "source": [
    "detection_id = ['input_diagram']\n",
    "box_id = detection_id[0]\n",
    "data_id = box_id\n",
    "ocr_results, sign_results, size_results = diagram_parser.load_symbol(detection_id, ocr_path, box_path)\n",
    "para_lst = []\n",
    "json_file = data_path\n",
    "with open(json_file, 'r') as f:\n",
    "    data = json.load(f)\n",
    "diagram_path = ('input\\diagram\\input_diagram.png')\n",
    "img = cv2.imread(diagram_path)\n",
    "factor = (1, 1)\n",
    "if size_results[box_id] is not None:\n",
    "    factor = (img.shape[1] / size_results[box_id][1], img.shape[0] / size_results[box_id][0])\n",
    "para_lst.append((data_id, box_id, ocr_results[box_id], sign_results[box_id], data, img, factor))\n"
   ]
  },
  {
   "cell_type": "code",
   "execution_count": 15,
   "metadata": {},
   "outputs": [
    {
     "data": {
      "text/plain": [
       "[('input_diagram',\n",
       "  'input_diagram',\n",
       "  [(51, 66, 87, 94, '30^{\\\\circ}'),\n",
       "   (132, 65, 153, 90, 'X'),\n",
       "   (156, 159, 197, 189, '60^{\\\\circ}'),\n",
       "   (30, 124, 52, 152, 'y'),\n",
       "   (150, 210, 182, 242, '21')],\n",
       "  [(82, 191, 119, 227, 'perpendicular')],\n",
       "  {'compact_text': 'Find x'},\n",
       "  array([[[255, 255, 255],\n",
       "          [255, 255, 255],\n",
       "          [255, 255, 255],\n",
       "          ...,\n",
       "          [255, 255, 255],\n",
       "          [255, 255, 255],\n",
       "          [255, 255, 255]],\n",
       "  \n",
       "         [[255, 255, 255],\n",
       "          [255, 255, 255],\n",
       "          [255, 255, 255],\n",
       "          ...,\n",
       "          [255, 255, 255],\n",
       "          [255, 255, 255],\n",
       "          [255, 255, 255]],\n",
       "  \n",
       "         [[255, 255, 255],\n",
       "          [255, 255, 255],\n",
       "          [255, 255, 255],\n",
       "          ...,\n",
       "          [255, 255, 255],\n",
       "          [255, 255, 255],\n",
       "          [255, 255, 255]],\n",
       "  \n",
       "         ...,\n",
       "  \n",
       "         [[255, 255, 255],\n",
       "          [255, 255, 255],\n",
       "          [255, 255, 255],\n",
       "          ...,\n",
       "          [255, 255, 255],\n",
       "          [255, 255, 255],\n",
       "          [255, 255, 255]],\n",
       "  \n",
       "         [[255, 255, 255],\n",
       "          [255, 255, 255],\n",
       "          [255, 255, 255],\n",
       "          ...,\n",
       "          [255, 255, 255],\n",
       "          [255, 255, 255],\n",
       "          [255, 255, 255]],\n",
       "  \n",
       "         [[255, 255, 255],\n",
       "          [255, 255, 255],\n",
       "          [255, 255, 255],\n",
       "          ...,\n",
       "          [255, 255, 255],\n",
       "          [255, 255, 255],\n",
       "          [255, 255, 255]]], dtype=uint8),\n",
       "  (1.003968253968254, 1.1264822134387351))]"
      ]
     },
     "execution_count": 15,
     "metadata": {},
     "output_type": "execute_result"
    }
   ],
   "source": [
    "para_lst"
   ]
  },
  {
   "cell_type": "code",
   "execution_count": 16,
   "metadata": {},
   "outputs": [
    {
     "name": "stderr",
     "output_type": "stream",
     "text": [
      "100%|█████████████████████████████████████████████| 1/1 [00:05<00:00,  5.38s/it]\n"
     ]
    }
   ],
   "source": [
    "solve_list = []\n",
    "with tqdm(total=len(para_lst), ncols=80) as t:\n",
    "    with Pool(10) as p:\n",
    "        for answer in p.imap_unordered(diagram_parser.multithread_solve, para_lst):\n",
    "            solve_list.append(answer)\n",
    "            t.update()"
   ]
  },
  {
   "cell_type": "code",
   "execution_count": 17,
   "metadata": {},
   "outputs": [],
   "source": [
    "solve_list = sorted(solve_list, key=lambda x: x['id'])\n",
    "final = {}\n",
    "for entry in solve_list:\n",
    "    id = entry[\"id\"]\n",
    "    del entry[\"id\"]\n",
    "    final[id] = entry\n",
    "with open(output_path, \"w\") as f:\n",
    "    json.dump(final, f, indent = 2)"
   ]
  },
  {
   "cell_type": "code",
   "execution_count": 18,
   "metadata": {},
   "outputs": [],
   "source": [
    "import os\n",
    "import json\n",
    "from text_parser.text_parser import parse,is_valid\n",
    "from diagram_parser.detection.test import detect_image\n",
    "import cv2\n",
    "from tqdm import tqdm\n",
    "from multiprocess import Pool"
   ]
  },
  {
   "cell_type": "code",
   "execution_count": 19,
   "metadata": {},
   "outputs": [],
   "source": [
    "from theorem_predict.tools.demo_generate_random_seqs import seq_gen_demo"
   ]
  },
  {
   "cell_type": "code",
   "execution_count": 20,
   "metadata": {},
   "outputs": [],
   "source": [
    "OUTPUT_FILE_TEXT = 'output/text/text_logic_forms.json'\n",
    "OUTPUT_FILE_DIAGRAM = 'output/diagram/diagram_logic_forms.json'"
   ]
  },
  {
   "cell_type": "code",
   "execution_count": 21,
   "metadata": {},
   "outputs": [
    {
     "name": "stdout",
     "output_type": "stream",
     "text": [
      "input_diagram\n",
      "{'id': 'input_diagram', 'num_seqs': 1, 'seq': [17, 10, 11, 14, 15, 8, 3, 15, 14, 5, 10, 14, 17, 10, 6, 12, 15, 16, 4, 11, 7, 13, 1, 6, 15, 13, 2, 4, 17, 4, 13, 6, 10, 6, 11, 6, 14, 11, 16, 17, 1, 8, 8, 3, 9, 4, 17, 8, 6, 12, 2, 8, 14, 6, 3, 1, 13, 9, 4, 5, 5, 3, 16, 7, 7, 5, 8, 12, 12, 3, 13, 14, 11, 10, 9, 1, 12, 7, 12, 5, 10, 2, 9, 8, 8, 1, 2, 15, 12, 13, 15, 6, 5, 5, 2, 4, 15, 2, 6, 14]}\n",
      "Saving generated theorem sequences to output/demo/pred_seqs_test_l100_random.json\n",
      "input_diagram\n",
      "{'id': 'input_diagram', 'num_seqs': 1, 'seq': [1, 2, 3, 4, 5, 6, 7, 8, 9, 10, 11, 12, 13, 14, 15, 16, 17, 1, 2, 3, 4, 5, 6, 7, 8, 9, 10, 11, 12, 13, 14, 15, 16, 17, 1, 2, 3, 4, 5, 6, 7, 8, 9, 10, 11, 12, 13, 14, 15, 16, 17, 1, 2, 3, 4, 5, 6, 7, 8, 9, 10, 11, 12, 13, 14, 15, 16, 17, 1, 2, 3, 4, 5, 6, 7, 8, 9, 10, 11, 12, 13, 14, 15, 16, 17, 1, 2, 3, 4, 5, 6, 7, 8, 9, 10, 11, 12, 13, 14, 15]}\n",
      "Saving generated theorem sequences to output/demo/pred_seqs_test_l100_fixed.json\n"
     ]
    }
   ],
   "source": [
    "seq_gen_demo()"
   ]
  },
  {
   "cell_type": "code",
   "execution_count": 2,
   "metadata": {},
   "outputs": [
    {
     "name": "stderr",
     "output_type": "stream",
     "text": [
      "c:\\DUT\\Nam4\\Ky8\\PBL\\InterGPS\\venvgps\\lib\\site-packages\\transformers\\models\\bart\\modeling_bart.py:597: UserWarning: 1Torch was not compiled with flash attention. (Triggered internally at ..\\aten\\src\\ATen\\native\\transformers\\cuda\\sdp_utils.cpp:455.)\n",
      "  attn_output = torch.nn.functional.scaled_dot_product_attention(\n"
     ]
    }
   ],
   "source": [
    "from theorem_predict.demo_eval_transformer import bart_demo\n",
    "bart_demo()"
   ]
  },
  {
   "cell_type": "code",
   "execution_count": 3,
   "metadata": {},
   "outputs": [],
   "source": [
    "## 给预测的序列加随机序号\n",
    "\n",
    "import json\n",
    "import random\n",
    "from numpy.random import seed\n",
    "\n",
    "seed(1234)\n",
    "random.seed(1234)\n",
    "\n",
    "# input_file = '../results/test/pred_seq_result_bart_epoch19_seq5.json'\n",
    "# output_file = '../results/test/pred_seq_result_bart_epoch19_seq5_add_random.json'\n",
    "input_file = 'output\\demo\\pred_seqs_test_bart_best.json'\n",
    "output_file = 'output\\demo\\pred_seqs_test_bart_best_random.json'\n",
    "input = json.load(open(input_file))\n",
    "\n",
    "output = {}\n",
    "for pid, data in input.items():\n",
    "    new_seq = data['seq'][0] + random.sample(list(range(1,18))*10, 100)\n",
    "    output[pid] = {'id':pid, 'num_seqs':1, 'seq':new_seq}\n",
    "    \n",
    "## Save result.json file\n",
    "with open(output_file, 'w') as f:\n",
    "    json.dump(output, f, indent=2, separators=(',', ': '))"
   ]
  },
  {
   "cell_type": "code",
   "execution_count": 4,
   "metadata": {},
   "outputs": [
    {
     "name": "stdout",
     "output_type": "stream",
     "text": [
      "                   label = final_new\n",
      "                strategy = final\n",
      "               data_path = input/data.json\n",
      "    text_logic_form_path = output/text/text_logic_forms.json\n",
      " diagram_logic_form_path = output/diagram/diagram_logic_forms.json\n",
      "           use_annotated = False\n",
      "            predict_path = output/demo/pred_seqs_test_bart_best.json\n",
      "             start_index = 2401\n",
      "               end_index = 3001\n",
      "              time_limit = 150\n",
      "             num_threads = 20\n",
      "               low_first = True\n",
      "              step_limit = 100\n",
      "              debug_mode = False\n",
      "            enable_round = False\n",
      "          enable_predict = True\n",
      "\n",
      "Finished, calculating solved problems...\n",
      "num_solved: 1 (100.00%)\n",
      "Average steps for solved problems: 17.00\n",
      "Done.\n",
      "Saving logging file to: logs/log-input_diagram.log\n",
      "Saving result file to: pred_results/logic_input_diagram.json\n"
     ]
    },
    {
     "name": "stderr",
     "output_type": "stream",
     "text": [
      "\n",
      "  0%|                                                     | 0/1 [00:00<?, ?it/s]\n",
      "100%|█████████████████████████████████████████████| 1/1 [00:07<00:00,  7.13s/it]\n",
      "100%|█████████████████████████████████████████████| 1/1 [00:07<00:00,  7.34s/it]\n"
     ]
    }
   ],
   "source": [
    "!python symbolic_solver/demo_test.py --data_path input/data.json --label final_new --strategy final --text_logic_form_path output/text/text_logic_forms.json --diagram_logic_form_path output/diagram/diagram_logic_forms.json --predict_path output/demo/pred_seqs_test_bart_best.json"
   ]
  },
  {
   "cell_type": "code",
   "execution_count": 5,
   "metadata": {},
   "outputs": [],
   "source": [
    "# import subprocess\n",
    "# import sys\n",
    "# venv_python = sys.executable\n",
    "# command = [\n",
    "#     venv_python, 'symbolic_solver/demo_test.py',\n",
    "#     '--data_path', 'input/data.json',\n",
    "#     '--label', 'final_new',\n",
    "#     '--strategy', 'final',\n",
    "#     '--text_logic_form_path', 'output/text/text_logic_forms.json',\n",
    "#     '--diagram_logic_form_path', 'output/diagram/diagram_logic_forms.json',\n",
    "#     '--predict_path', 'output/demo/pred_seqs_test_bart_best.json'\n",
    "# ]\n",
    "# # Thực hiện lệnh\n",
    "# result = subprocess.run(command, capture_output=True, text=True)\n",
    "\n",
    "# # In ra kết quả\n",
    "# print(\"stdout:\", result.stdout)\n",
    "# print(\"stderr:\", result.stderr)\n",
    "# print(\"Return code:\", result.returncode)"
   ]
  },
  {
   "cell_type": "code",
   "execution_count": 6,
   "metadata": {},
   "outputs": [],
   "source": [
    "# import json\n",
    "\n",
    "# # Đọc dữ liệu từ file JSON thứ nhất\n",
    "# with open('output/logic_form_edited.json', 'r') as file:\n",
    "#     edited_data = json.load(file)\n",
    "# # Đọc dữ liệu từ file JSON thứ hai và ba\n",
    "# with open('output/text/text_logic_forms.json', 'r') as file:\n",
    "#     text = json.load(file)\n",
    "\n",
    "# with open('output/diagram/diagram_logic_forms.json', 'r') as file:\n",
    "#     diagram = json.load(file)"
   ]
  },
  {
   "cell_type": "code",
   "execution_count": 7,
   "metadata": {},
   "outputs": [],
   "source": [
    "# # Hàm để thay thế các giá trị của trường trong đối tượng JSON\n",
    "# def replace_values(source, target):\n",
    "#     for key, value in source.items():\n",
    "#         if key in target['input_diagram']:\n",
    "#             # print(key)\n",
    "#             if isinstance(value, dict) and isinstance(target['input_diagram'][key], dict):\n",
    "#                 target['input_diagram'][key] = value \n",
    "#             else:\n",
    "#                 target['input_diagram'][key] = value\n",
    "\n",
    "# # Thay thế các giá trị trong text_data nếu tồn tại trong edit_data\n",
    "# replace_values(edited_data, text)\n",
    "\n",
    "# # Thay thế các giá trị trong diagram_data nếu tồn tại trong edit_data\n",
    "# replace_values(edited_data, diagram)\n",
    "\n",
    "# # Ghi dữ liệu đã thay thế vào file text_updated.json và diagram_updated.json\n",
    "# with open('output/text/text_logic_forms.json', 'w', encoding='utf-8') as file:\n",
    "#     json.dump(text, file, ensure_ascii=False, indent=4)\n",
    "\n",
    "# with open('output/diagram/diagram_logic_forms.json', 'w', encoding='utf-8') as file:\n",
    "#     json.dump(diagram, file, ensure_ascii=False, indent=4)"
   ]
  }
 ],
 "metadata": {
  "kernelspec": {
   "display_name": "venvgps",
   "language": "python",
   "name": "python3"
  },
  "language_info": {
   "codemirror_mode": {
    "name": "ipython",
    "version": 3
   },
   "file_extension": ".py",
   "mimetype": "text/x-python",
   "name": "python",
   "nbconvert_exporter": "python",
   "pygments_lexer": "ipython3",
   "version": "3.10.10"
  }
 },
 "nbformat": 4,
 "nbformat_minor": 2
}
