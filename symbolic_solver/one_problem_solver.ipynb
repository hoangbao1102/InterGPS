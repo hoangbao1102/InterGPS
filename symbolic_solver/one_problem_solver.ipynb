{
 "cells": [
  {
   "cell_type": "code",
   "execution_count": 1,
   "metadata": {},
   "outputs": [],
   "source": [
    "import os\n",
    "import json\n",
    "import time\n",
    "import random\n",
    "import warnings\n",
    "import argparse\n",
    "\n",
    "from numpy.random import seed\n",
    "from extended_definition import ExtendedDefinition\n",
    "from logic_parser import LogicParser\n",
    "from logic_solver import LogicSolver\n",
    "from func_timeout import func_timeout, FunctionTimedOut\n",
    "from tqdm import tqdm\n",
    "from multiprocess import Pool\n",
    "\n",
    "warnings.filterwarnings('ignore')\n",
    "\n",
    "seed(0)\n",
    "random.seed(0)"
   ]
  },
  {
   "cell_type": "code",
   "execution_count": 2,
   "metadata": {},
   "outputs": [],
   "source": [
    "label = 'final_new'\n",
    "strategy = 'final'\n",
    "use_annotated = False\n",
    "time_limit = 150\n",
    "num_threads = 20\n",
    "low_first = True\n",
    "step_limit = 100\n",
    "debug_mode = False\n",
    "enable_round = False\n",
    "enable_predict = True"
   ]
  },
  {
   "cell_type": "code",
   "execution_count": 3,
   "metadata": {},
   "outputs": [],
   "source": [
    "def solve_one_problem(text_parser, diagram_parser,order_lst):\n",
    "\n",
    "    ## Set up the logic parser\n",
    "    parser = LogicParser(ExtendedDefinition(debug=debug_mode))\n",
    "\n",
    "    if diagram_parser is not None:\n",
    "        # Define diagram primitive elements\n",
    "        parser.logic.point_positions = diagram_parser['point_positions']\n",
    "\n",
    "        isLetter = lambda ch: ch.upper() and len(ch) == 1\n",
    "        parser.logic.define_point([_ for _ in parser.logic.point_positions if isLetter(_)])\n",
    "        if debug_mode:\n",
    "            print(parser.logic.point_positions)\n",
    "\n",
    "        lines = diagram_parser['line_instances']  # ['AB', 'AC', 'AD', 'BC', 'BD', 'CD']\n",
    "        for line in lines:\n",
    "            line = line.strip()\n",
    "            if len(line) == 2 and isLetter(line[0]) and isLetter(line[1]):\n",
    "                parser.logic.define_line(line[0], line[1])\n",
    "\n",
    "        circles = diagram_parser['circle_instances']  # ['O']\n",
    "        for point in circles:\n",
    "            parser.logic.define_circle(point)\n",
    "\n",
    "        # Parse diagram logic forms\n",
    "        logic_forms = diagram_parser['diagram_logic_forms']\n",
    "        logic_forms = sorted(logic_forms, key=lambda x: x.find(\"Perpendicular\") != -1)  # put 'Perpendicular' to the end\n",
    "\n",
    "        for logic_form in logic_forms:\n",
    "            if logic_form.strip() != \"\":\n",
    "                if debug_mode:\n",
    "                    print(\"The diagram logic form is\", logic_form)\n",
    "                try:\n",
    "                    parse_tree = parser.parse(logic_form) # ['Equals', ['LengthOf', ['Line', 'A', 'C']], '10']\n",
    "                    parser.dfsParseTree(parse_tree)\n",
    "                except Exception as e:\n",
    "                    if debug_mode:\n",
    "                        print(\"\\033[0;0;41mError:\\033[0m\", repr(e))\n",
    "\n",
    "    ## Parse text logic forms\n",
    "    target = None\n",
    "    text_logic_forms = text_parser[\"text_logic_forms\"]\n",
    "    for text in text_logic_forms:\n",
    "        if debug_mode:\n",
    "            print(\"The text logic form is\", text)\n",
    "        if text.find('Find') != -1:\n",
    "            target = parser.findTarget(parser.parse(text)) # ['Value', 'A', 'C']\n",
    "        else:\n",
    "            res = parser.parse(text)\n",
    "            parser.dfsParseTree(res)\n",
    "\n",
    "    if debug_mode:\n",
    "        print(\"The predicting sequence is\", order_lst)\n",
    "\n",
    "    ## Set up, initialize and run the logic solver\n",
    "    solver = LogicSolver(parser.logic)\n",
    "    solver.initSearch()\n",
    "    answer, steps, step_lst = solver.Search(target=target,\n",
    "                                            order_list=order_lst,\n",
    "                                            round_or_step=enable_round,\n",
    "                                            upper_bound=round_limit if enable_round else step_limit,\n",
    "                                            enable_low_first=low_first)\n",
    "\n",
    "    return target, answer, steps, step_lst"
   ]
  },
  {
   "cell_type": "code",
   "execution_count": 4,
   "metadata": {},
   "outputs": [],
   "source": [
    "def multithread_solve(parameters ):\n",
    "    text_logic_form, diagram_logic_form,order_lst = parameters\n",
    "    target, answer, steps, step_lst = None, None, 0, []\n",
    "\n",
    "    # solve the #index problem\n",
    "    solve_problem_start = time.time()\n",
    "    if debug_mode:\n",
    "        target, answer, steps, step_lst = solve_one_problem(text_logic_form, diagram_logic_form,order_lst)\n",
    "    else:\n",
    "        try:\n",
    "            target, answer, steps, step_lst = func_timeout(time_limit, solve_one_problem,\n",
    "                                                           kwargs=dict(text_parser=text_logic_form,\n",
    "                                                                 diagram_parser=diagram_logic_form,\n",
    "                                                                 order_lst=order_lst\n",
    "                                                                 ))\n",
    "        except FunctionTimedOut:\n",
    "            pass\n",
    "        except Exception as e:\n",
    "            if args.debug_mode:\n",
    "                print(\"\\033[0;0;41mError:\\033[0m\", repr(e))\n",
    "    time_interval = time.time() - solve_problem_start\n",
    "\n",
    "    # solved result\n",
    "    answer = float(answer) if answer is not None else answer\n",
    "    entry = {'pid': index, 'target': target, 'guess': answer, 'correctness': 'no',\n",
    "             'steps': steps, 'step_lst': step_lst, 'time': round(time_interval, 2)}\n",
    "\n",
    "    # ground truth\n",
    "    data_json = json.load(open(os.path.join(args.data_path, 'test', str(index), \"data.json\")))\n",
    "    value_list = data_json['precise_value']  # [5.0, 12.0, 13.0, 26.0]\n",
    "    gt_id = ord(data_json['answer']) - 65  # 0\n",
    "\n",
    "    # validate the predicted answer\n",
    "    if answer is not None:\n",
    "        # all choice candidates are valid, and the answer is the closest one to ground truth among choice candidates\n",
    "        try:\n",
    "            if all([x is not None for x in value_list]) and \\\n",
    "                    abs(value_list[gt_id] - answer) == min([abs(x - answer) for x in value_list]):\n",
    "                entry['correctness'] = 'yes'\n",
    "        except Exception as e:\n",
    "            if args.debug_mode:\n",
    "                print(\"\\035[0;0;41mError:\\0353[0m\", repr(e), value_list, gt_id, answer)\n",
    "        if entry['correctness'] == 'yes':\n",
    "            if args.debug_mode:\n",
    "                print(\"\\033[0;0;42mCorrect_answer:\\033[0m \", end=\"\")  # green\n",
    "        else:\n",
    "            if args.debug_mode:\n",
    "                print(\"\\033[0;0;43mWrong_answer:\\033[0m \", end=\"\")  # yellow\n",
    "\n",
    "    if args.debug_mode:\n",
    "        print(entry)\n",
    "    return entry"
   ]
  },
  {
   "cell_type": "code",
   "execution_count": 5,
   "metadata": {},
   "outputs": [],
   "source": [
    "text_logic_form_path = \"../text_parser/oneprob_text_logic_forms.json\"\n",
    "diagram_logic_form_path = \"../diagram_parser/oneprob_diagram_logic_forms.json\"\n",
    "predict_path = \"../theorem_predict/results/test/oneprob_pred_seq_test_bart_best.json\""
   ]
  },
  {
   "cell_type": "code",
   "execution_count": 6,
   "metadata": {},
   "outputs": [],
   "source": [
    "text_logic_table = json.load(open(text_logic_form_path, \"r\"))\n",
    "diagram_logic_table = None\n",
    "if diagram_logic_form_path is not None:\n",
    "    diagram_logic_table = json.load(open(diagram_logic_form_path, \"r\"))\n",
    "\n",
    "predict_table = None\n",
    "if predict_path is not None:\n",
    "    predict_table = json.load(open(predict_path, \"r\"))"
   ]
  },
  {
   "cell_type": "code",
   "execution_count": 7,
   "metadata": {},
   "outputs": [
    {
     "name": "stdout",
     "output_type": "stream",
     "text": [
      "{'2409': {'text_logic_forms': ['Find(y)'], 'output_text': '[Find(y)].', 'success': True}}\n",
      "{'2409': {'log': [], 'point_instances': ['point_0', 'A', 'B', 'C', 'point_4'], 'line_instances': ['point_0C', 'point_0point_4', 'CA', 'CB', 'Cpoint_4', 'point_4B', 'AB'], 'circle_instances': [], 'diagram_logic_forms': ['Perpendicular(Line(C, A), Line(C, B))', 'Equals(LengthOf(Line(C, A)), y)', 'Equals(MeasureOf(Angle(C, B, A)), 60)', 'Equals(LengthOf(Line(A, B)), x)', 'Equals(LengthOf(Line(C, B)), 21)', 'Equals(MeasureOf(Angle(B, A, C)), 30)'], 'point_positions': {'null': [99.48593646591661, 211.24867637326275], 'A': [0.9681032687903439, 1.205912971059746], 'B': [206.28674040780763, 176.5769234855971], 'C': [76.06045424181697, 218.5434201736807]}}}\n",
      "{'2409': {'id': '2409', 'num_seqs': 5, 'seq': [[], [], [], [], []]}}\n"
     ]
    }
   ],
   "source": [
    "print(text_logic_table)\n",
    "print(diagram_logic_table)\n",
    "print(predict_table)"
   ]
  },
  {
   "cell_type": "code",
   "execution_count": 8,
   "metadata": {},
   "outputs": [],
   "source": [
    "str_index = '2409'\n",
    "text_logic_form, diagram_logic_form, order_lst= None,None,None\n",
    "if text_logic_table is not None:\n",
    "    text_logic_form = text_logic_table.get(str_index)\n",
    "\n",
    "if diagram_logic_table is not None:\n",
    "    diagram_logic_form = diagram_logic_table.get(str_index)\n",
    "    \n",
    "if enable_predict and predict_table is not None:\n",
    "    if str_index in predict_table:\n",
    "        order_lst = predict_table[str_index]['seq']\n",
    "        if isinstance(order_lst[0], list):\n",
    "            order_lst = order_lst[0]"
   ]
  },
  {
   "cell_type": "code",
   "execution_count": 9,
   "metadata": {},
   "outputs": [
    {
     "name": "stdout",
     "output_type": "stream",
     "text": [
      "{'text_logic_forms': ['Find(y)'], 'output_text': '[Find(y)].', 'success': True}\n",
      "{'log': [], 'point_instances': ['point_0', 'A', 'B', 'C', 'point_4'], 'line_instances': ['point_0C', 'point_0point_4', 'CA', 'CB', 'Cpoint_4', 'point_4B', 'AB'], 'circle_instances': [], 'diagram_logic_forms': ['Perpendicular(Line(C, A), Line(C, B))', 'Equals(LengthOf(Line(C, A)), y)', 'Equals(MeasureOf(Angle(C, B, A)), 60)', 'Equals(LengthOf(Line(A, B)), x)', 'Equals(LengthOf(Line(C, B)), 21)', 'Equals(MeasureOf(Angle(B, A, C)), 30)'], 'point_positions': {'null': [99.48593646591661, 211.24867637326275], 'A': [0.9681032687903439, 1.205912971059746], 'B': [206.28674040780763, 176.5769234855971], 'C': [76.06045424181697, 218.5434201736807]}}\n",
      "[]\n"
     ]
    }
   ],
   "source": [
    "print(text_logic_form)\n",
    "print(diagram_logic_form)\n",
    "print(order_lst)"
   ]
  },
  {
   "cell_type": "code",
   "execution_count": 10,
   "metadata": {},
   "outputs": [],
   "source": [
    "para_lst = []\n",
    "para_lst.append((text_logic_form, diagram_logic_form,order_lst))"
   ]
  },
  {
   "cell_type": "code",
   "execution_count": 11,
   "metadata": {},
   "outputs": [
    {
     "ename": "NameError",
     "evalue": "name 'time' is not defined",
     "output_type": "error",
     "traceback": [
      "\u001b[1;31m---------------------------------------------------------------------------\u001b[0m",
      "\u001b[1;31mRemoteTraceback\u001b[0m                           Traceback (most recent call last)",
      "\u001b[1;31mRemoteTraceback\u001b[0m: \n\"\"\"\nTraceback (most recent call last):\n  File \"c:\\DUT\\Nam4\\Ky8\\PBL\\InterGPS\\venvgps\\lib\\site-packages\\multiprocess\\pool.py\", line 125, in worker\n    result = (True, func(*args, **kwds))\n  File \"C:\\Users\\HP\\AppData\\Local\\Temp\\ipykernel_5272\\2769250945.py\", line 6, in multithread_solve\nNameError: name 'time' is not defined\n\"\"\"",
      "\nThe above exception was the direct cause of the following exception:\n",
      "\u001b[1;31mNameError\u001b[0m                                 Traceback (most recent call last)",
      "Cell \u001b[1;32mIn[11], line 3\u001b[0m\n\u001b[0;32m      1\u001b[0m solve_list \u001b[38;5;241m=\u001b[39m []\n\u001b[0;32m      2\u001b[0m \u001b[38;5;28;01mwith\u001b[39;00m Pool(num_threads) \u001b[38;5;28;01mas\u001b[39;00m p:\n\u001b[1;32m----> 3\u001b[0m     \u001b[38;5;28;01mfor\u001b[39;00m answer \u001b[38;5;129;01min\u001b[39;00m p\u001b[38;5;241m.\u001b[39mimap_unordered(multithread_solve, para_lst):\n\u001b[0;32m      4\u001b[0m         solve_list\u001b[38;5;241m.\u001b[39mappend(answer)\n",
      "File \u001b[1;32mc:\\DUT\\Nam4\\Ky8\\PBL\\InterGPS\\venvgps\\lib\\site-packages\\multiprocess\\pool.py:873\u001b[0m, in \u001b[0;36mIMapIterator.next\u001b[1;34m(self, timeout)\u001b[0m\n\u001b[0;32m    871\u001b[0m \u001b[38;5;28;01mif\u001b[39;00m success:\n\u001b[0;32m    872\u001b[0m     \u001b[38;5;28;01mreturn\u001b[39;00m value\n\u001b[1;32m--> 873\u001b[0m \u001b[38;5;28;01mraise\u001b[39;00m value\n",
      "\u001b[1;31mNameError\u001b[0m: name 'time' is not defined"
     ]
    }
   ],
   "source": [
    "solve_list = []\n",
    "with Pool(num_threads) as p:\n",
    "    for answer in p.imap_unordered(multithread_solve, para_lst):\n",
    "        solve_list.append(answer)"
   ]
  }
 ],
 "metadata": {
  "kernelspec": {
   "display_name": "venvgps",
   "language": "python",
   "name": "python3"
  },
  "language_info": {
   "codemirror_mode": {
    "name": "ipython",
    "version": 3
   },
   "file_extension": ".py",
   "mimetype": "text/x-python",
   "name": "python",
   "nbconvert_exporter": "python",
   "pygments_lexer": "ipython3",
   "version": "3.10.10"
  }
 },
 "nbformat": 4,
 "nbformat_minor": 2
}
